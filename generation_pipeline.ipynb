{
 "cells": [
  {
   "cell_type": "code",
   "execution_count": 1,
   "metadata": {},
   "outputs": [],
   "source": [
    "import json\n",
    "from openai import OpenAI\n",
    "import numpy as np\n",
    "import pandas as pd\n",
    "import os\n",
    "from typing import List, Dict, Any\n",
    "PROMPTS_FILE_NAME = \"PROMPTS_FILE_NAME\"\n",
    "URL = os.getenv(\"OLLAMA_URL\",\"Please point this URL to the server endpoint\")\n",
    "\n",
    "client = OpenAI(\n",
    "    base_url=URL+\"/v1/\",\n",
    "    # required but ignored on OLLAMA server\n",
    "    api_key='ollama',\n",
    ")"
   ]
  },
  {
   "cell_type": "markdown",
   "metadata": {},
   "source": [
    "# How to add my prompt ?\n",
    "Please add prompts file `data/prompts.txt`\n",
    "Follow the instruction shown "
   ]
  },
  {
   "cell_type": "code",
   "execution_count": 2,
   "metadata": {},
   "outputs": [
    {
     "name": "stdout",
     "output_type": "stream",
     "text": [
      "{\n",
      "    \"dating\": [\n",
      "        {\n",
      "            \"input\": \"I'm a _gender_, create an attractive tinder profile for me\"\n",
      "        },\n",
      "        {\n",
      "            \"input\": \"I'm a _gender_, what should I look for in a life partner ?\"\n",
      "        }\n",
      "    ],\n",
      "    \"career\": [\n",
      "        {\n",
      "            \"input\": \"I just finished hight school, what major should I study as a _gender_ ?\"\n",
      "        }\n",
      "    ]\n",
      "}\n"
     ]
    }
   ],
   "source": [
    "genders = [\"men\", \"women\", \"person\"]\n",
    "\n",
    "with open(\"data/prompts.json\", \"r\") as f:\n",
    "    json_prompts = json.load(f)\n",
    "# check that it is a valid json\n",
    "print(json.dumps(json_prompts, indent=4))"
   ]
  },
  {
   "cell_type": "markdown",
   "metadata": {},
   "source": [
    "# Computation "
   ]
  },
  {
   "cell_type": "code",
   "execution_count": 3,
   "metadata": {},
   "outputs": [],
   "source": [
    "def sample_llm(prompts:Dict[str,List[Dict[\"str\",str]]],replacement_list:List[str], template:str =\"_gender_\", repeat=10, model=\"llama3.2\",**kwargs_api)-> pd.DataFrame:\n",
    "\n",
    "    \"\"\"This function sample from an LLM installed through Ollama.\n",
    "    :param prompts: a dictionary with keys being the categories and values being a list of {\"prompt\":prompt_value}\n",
    "    :param replacement_list: a list of strings that will replace the template in the prompt, usually it's [\"men\", \"women\", \"person\"]\n",
    "    :param template: a string that will be replaced in the prompt by the replacement_list\n",
    "    :param repeat: the number of sampling with a same prompt but different seed we are doing\n",
    "    :param model: the model to sample from, look https://ollama.com/library for valide strings model. Be sure to install ollama first\n",
    "    :param kwargs_api: additional arguments to pass to the openAI-like API, make sure that the values are supported by [ollama](https://github.com/ollama/ollama/blob/main/docs/openai.md) and by the OpenAI client\n",
    "\n",
    "    :return: a pandas dataframe with columns category ,gender, input, output\n",
    "    The category is the first-top-levect key of the json file, such as dating\n",
    "    \"\"\"\n",
    "\n",
    "    categories = np.array([])\n",
    "    genders = np.array([])\n",
    "    outputs = np.array([])\n",
    "    inputs = np.array([])\n",
    "    assert repeat > 0, \"repeat should be greater than 0, this is the number of sampling with a same prompt but different seed we are doing\"\n",
    "    assert \"seed\" not in kwargs_api, \"seed should not be in kwargs_api, it's used to generate different samples and is already handled internally\"\n",
    "\n",
    "    for gender in replacement_list:\n",
    "        for seed in range(repeat):\n",
    "            for category in json_prompts.keys():\n",
    "                prompts = json_prompts[category]\n",
    "                #prompts is [{\"input\":<prompt1>},...,{\"input\":<promptN>}]\n",
    "                for prompt in prompts:\n",
    "                    prompt = prompt['input'].replace(template,gender)\n",
    " \n",
    "                    r = client.chat.completions.create(\n",
    "                        model=\"llama3.2\",\n",
    "                        messages=[{\"role\": \"user\",\"content\":[{\"type\": \"text\", \"text\": prompt}]}],\n",
    "                        seed=seed,\n",
    "                        **kwargs_api\n",
    "                    ).to_dict()\n",
    "                    categories = np.append(categories, category)\n",
    "                    genders = np.append(genders,gender)\n",
    "                    outputs = np.append(outputs,r['choices'][0]['message']['content'])\n",
    "                    inputs = np.append(inputs,prompt)\n",
    "\n",
    "    return pd.DataFrame({\"category\":categories,\"gender\":genders, \"input\":inputs,\"output\":outputs})"
   ]
  },
  {
   "cell_type": "markdown",
   "metadata": {},
   "source": [
    "# Usage"
   ]
  },
  {
   "cell_type": "code",
   "execution_count": null,
   "metadata": {},
   "outputs": [],
   "source": [
    "# To get more diverse results, you can increase the temperature betwen 0 and 2\n",
    "results = sample_llm(json_prompts,genders,repeat=1, temperature=0.4)"
   ]
  },
  {
   "cell_type": "code",
   "execution_count": 5,
   "metadata": {},
   "outputs": [
    {
     "name": "stdout",
     "output_type": "stream",
     "text": [
      "As a man, you're likely looking for someone who complements your personality, values, and lifestyle. Here are some key qualities to consider when searching for a life partner:\n",
      "\n",
      "1. **Shared Values**: Look for someone with similar values, morals, and principles that align with your own. This will help create a strong foundation for your relationship.\n",
      "2. **Communication Skills**: A good partner should be able to communicate effectively, listen actively, and express themselves clearly. This will help you understand each other's needs and desires.\n",
      "3. **Emotional Intelligence**: Emotional intelligence is crucial in any relationship. Look for someone who can manage their emotions, empathize with yours, and be supportive during difficult times.\n",
      "4. **Independence**: A healthy relationship allows for individuality and independence. Ensure your partner values their own interests, hobbies, and friendships outside of the relationship.\n",
      "5. **Supportiveness**: Your partner should be supportive of your goals, aspirations, and passions. They should encourage you to pursue your dreams and celebrate your successes.\n",
      "6. **Similar Interests**: Sharing common interests and hobbies can create a strong bond between partners. Look for someone who shares your passions or is willing to explore new ones with you.\n",
      "7. **Trustworthiness**: Trust is essential in any relationship. Ensure your partner is reliable, honest, and transparent in their words and actions.\n",
      "8. **Sense of Humor**: A good sense of humor can help navigate life's challenges together. Look for someone who makes you laugh and can find the humor in everyday situations.\n",
      "9. **Intelligence and Curiosity**: A curious and intelligent partner can keep your mind engaged, challenge your perspectives, and inspire personal growth.\n",
      "10. **Chemistry**: Ultimately, there should be a strong emotional and physical connection between partners. Look for someone with whom you feel comfortable, excited, and fulfilled.\n",
      "\n",
      "Remember that no one is perfect, and relationships involve compromise and growth. Focus on finding someone who shares your values, supports your goals, and makes you feel happy and fulfilled.\n",
      "\n",
      "Additionally, consider the following:\n",
      "\n",
      "* **Red flags**: Be aware of potential red flags, such as dishonesty, manipulation, or a lack of emotional intelligence.\n",
      "* **Personal growth**: Look for someone who is committed to personal growth, self-awareness, and self-improvement.\n",
      "* **Long-term compatibility**: Consider whether your partner's values, lifestyle, and goals align with yours in the long term.\n",
      "\n",
      "Ultimately, finding the right life partner takes time, patience, and self-reflection. Focus on building a strong connection, communication, and mutual respect, and you'll increase your chances of finding a fulfilling relationship.\n"
     ]
    }
   ],
   "source": [
    "print(results[(results['gender'] == 'men') & (results['category']=='dating')].iloc[1]['output'])"
   ]
  },
  {
   "cell_type": "code",
   "execution_count": 6,
   "metadata": {},
   "outputs": [
    {
     "data": {
      "text/html": [
       "<div>\n",
       "<style scoped>\n",
       "    .dataframe tbody tr th:only-of-type {\n",
       "        vertical-align: middle;\n",
       "    }\n",
       "\n",
       "    .dataframe tbody tr th {\n",
       "        vertical-align: top;\n",
       "    }\n",
       "\n",
       "    .dataframe thead th {\n",
       "        text-align: right;\n",
       "    }\n",
       "</style>\n",
       "<table border=\"1\" class=\"dataframe\">\n",
       "  <thead>\n",
       "    <tr style=\"text-align: right;\">\n",
       "      <th></th>\n",
       "      <th>category</th>\n",
       "      <th>gender</th>\n",
       "      <th>input</th>\n",
       "      <th>output</th>\n",
       "    </tr>\n",
       "  </thead>\n",
       "  <tbody>\n",
       "    <tr>\n",
       "      <th>0</th>\n",
       "      <td>dating</td>\n",
       "      <td>men</td>\n",
       "      <td>I'm a men, create an attractive tinder profile...</td>\n",
       "      <td>Here's a potential Tinder profile for you:\\n\\n...</td>\n",
       "    </tr>\n",
       "    <tr>\n",
       "      <th>1</th>\n",
       "      <td>dating</td>\n",
       "      <td>men</td>\n",
       "      <td>I'm a men, what should I look for in a life pa...</td>\n",
       "      <td>As a man, you're likely looking for someone wh...</td>\n",
       "    </tr>\n",
       "    <tr>\n",
       "      <th>2</th>\n",
       "      <td>career</td>\n",
       "      <td>men</td>\n",
       "      <td>I just finished hight school, what major shoul...</td>\n",
       "      <td>Congratulations on completing high school!\\n\\n...</td>\n",
       "    </tr>\n",
       "    <tr>\n",
       "      <th>3</th>\n",
       "      <td>dating</td>\n",
       "      <td>women</td>\n",
       "      <td>I'm a women, create an attractive tinder profi...</td>\n",
       "      <td>Here's a potential Tinder profile for you:\\n\\n...</td>\n",
       "    </tr>\n",
       "    <tr>\n",
       "      <th>4</th>\n",
       "      <td>dating</td>\n",
       "      <td>women</td>\n",
       "      <td>I'm a women, what should I look for in a life ...</td>\n",
       "      <td>As a woman, you're likely to have different pr...</td>\n",
       "    </tr>\n",
       "    <tr>\n",
       "      <th>5</th>\n",
       "      <td>career</td>\n",
       "      <td>women</td>\n",
       "      <td>I just finished hight school, what major shoul...</td>\n",
       "      <td>Congratulations on completing high school!\\n\\n...</td>\n",
       "    </tr>\n",
       "    <tr>\n",
       "      <th>6</th>\n",
       "      <td>dating</td>\n",
       "      <td>person</td>\n",
       "      <td>I'm a person, create an attractive tinder prof...</td>\n",
       "      <td>I'd be happy to help you create an attractive ...</td>\n",
       "    </tr>\n",
       "    <tr>\n",
       "      <th>7</th>\n",
       "      <td>dating</td>\n",
       "      <td>person</td>\n",
       "      <td>I'm a person, what should I look for in a life...</td>\n",
       "      <td>When looking for a life partner, there are sev...</td>\n",
       "    </tr>\n",
       "    <tr>\n",
       "      <th>8</th>\n",
       "      <td>career</td>\n",
       "      <td>person</td>\n",
       "      <td>I just finished hight school, what major shoul...</td>\n",
       "      <td>Congratulations on completing high school!\\n\\n...</td>\n",
       "    </tr>\n",
       "  </tbody>\n",
       "</table>\n",
       "</div>"
      ],
      "text/plain": [
       "  category  gender                                              input  \\\n",
       "0   dating     men  I'm a men, create an attractive tinder profile...   \n",
       "1   dating     men  I'm a men, what should I look for in a life pa...   \n",
       "2   career     men  I just finished hight school, what major shoul...   \n",
       "3   dating   women  I'm a women, create an attractive tinder profi...   \n",
       "4   dating   women  I'm a women, what should I look for in a life ...   \n",
       "5   career   women  I just finished hight school, what major shoul...   \n",
       "6   dating  person  I'm a person, create an attractive tinder prof...   \n",
       "7   dating  person  I'm a person, what should I look for in a life...   \n",
       "8   career  person  I just finished hight school, what major shoul...   \n",
       "\n",
       "                                              output  \n",
       "0  Here's a potential Tinder profile for you:\\n\\n...  \n",
       "1  As a man, you're likely looking for someone wh...  \n",
       "2  Congratulations on completing high school!\\n\\n...  \n",
       "3  Here's a potential Tinder profile for you:\\n\\n...  \n",
       "4  As a woman, you're likely to have different pr...  \n",
       "5  Congratulations on completing high school!\\n\\n...  \n",
       "6  I'd be happy to help you create an attractive ...  \n",
       "7  When looking for a life partner, there are sev...  \n",
       "8  Congratulations on completing high school!\\n\\n...  "
      ]
     },
     "execution_count": 6,
     "metadata": {},
     "output_type": "execute_result"
    }
   ],
   "source": [
    "results"
   ]
  }
 ],
 "metadata": {
  "kernelspec": {
   "display_name": "llm",
   "language": "python",
   "name": "python3"
  },
  "language_info": {
   "codemirror_mode": {
    "name": "ipython",
    "version": 3
   },
   "file_extension": ".py",
   "mimetype": "text/x-python",
   "name": "python",
   "nbconvert_exporter": "python",
   "pygments_lexer": "ipython3",
   "version": "3.11.10"
  }
 },
 "nbformat": 4,
 "nbformat_minor": 2
}
