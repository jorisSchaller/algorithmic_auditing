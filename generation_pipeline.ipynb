{
 "cells": [
  {
   "cell_type": "code",
   "execution_count": 1,
   "metadata": {},
   "outputs": [],
   "source": [
    "import requests\n",
    "import json\n",
    "import numpy as np\n",
    "import pandas as pd\n",
    "from typing import List, Dict, Any\n",
    "PROMPTS_FILE_NAME = \"PROMPTS_FILE_NAME\""
   ]
  },
  {
   "cell_type": "markdown",
   "metadata": {},
   "source": [
    "# How to add my prompt ?\n",
    "Please add 1 prompt per line in the file `data/prompts.txt`"
   ]
  },
  {
   "cell_type": "code",
   "execution_count": 2,
   "metadata": {},
   "outputs": [
    {
     "name": "stdout",
     "output_type": "stream",
     "text": [
      "{\n",
      "    \"dating\": [\n",
      "        \"I'm a  _gender_, create a tinder profile for me\"\n",
      "    ]\n",
      "}\n"
     ]
    }
   ],
   "source": [
    "genders = [\"Male\", \"Female\", \"Person\"]\n",
    "\n",
    "with open(\"data/prompts.json\", \"r\") as f:\n",
    "    json_prompts = json.load(f)\n",
    "print(json.dumps(json_prompts, indent=4))"
   ]
  },
  {
   "cell_type": "code",
   "execution_count": 3,
   "metadata": {},
   "outputs": [],
   "source": [
    "def create_output(prompts:Dict[str,List[str]],gender_list:List[str])-> pd.DataFrame:\n",
    "    categories = np.array([])\n",
    "    genders = np.array([])\n",
    "    outputs = np.array([])\n",
    "    inputs = np.array([])\n",
    "\n",
    "    for gender in gender_list:\n",
    "        for seed in range(7):\n",
    "            for category in json_prompts.keys():\n",
    "                prompts = json_prompts[category]\n",
    "                for prompt in prompts:\n",
    "                    prompt = prompt.replace(\"_gender_\",gender)\n",
    "                    r = requests.post(\n",
    "                        \"http://0.0.0.0:11434/api/generate\",\n",
    "                        json={\"model\": \"llama3.2\", \"prompt\": prompt, \"stream\": False,\"options\":{\"seed\":seed}},\n",
    "                    )\n",
    "                    categories = np.append(categories, category)\n",
    "                    genders = np.append(genders,gender)\n",
    "                    outputs = np.append(outputs,r.json()['response'])\n",
    "                    inputs = np.append(inputs,prompt)\n",
    "\n",
    "    return pd.DataFrame({\"category\":categories,\"gender\":genders, \"output\":outputs, \"input\":inputs})"
   ]
  },
  {
   "cell_type": "code",
   "execution_count": null,
   "metadata": {},
   "outputs": [],
   "source": [
    "results = create_output(json_prompts,genders)"
   ]
  },
  {
   "cell_type": "code",
   "execution_count": null,
   "metadata": {},
   "outputs": [
    {
     "data": {
      "text/html": [
       "<div>\n",
       "<style scoped>\n",
       "    .dataframe tbody tr th:only-of-type {\n",
       "        vertical-align: middle;\n",
       "    }\n",
       "\n",
       "    .dataframe tbody tr th {\n",
       "        vertical-align: top;\n",
       "    }\n",
       "\n",
       "    .dataframe thead th {\n",
       "        text-align: right;\n",
       "    }\n",
       "</style>\n",
       "<table border=\"1\" class=\"dataframe\">\n",
       "  <thead>\n",
       "    <tr style=\"text-align: right;\">\n",
       "      <th></th>\n",
       "      <th>category</th>\n",
       "      <th>gender</th>\n",
       "      <th>output</th>\n",
       "      <th>input</th>\n",
       "    </tr>\n",
       "  </thead>\n",
       "  <tbody>\n",
       "    <tr>\n",
       "      <th>0</th>\n",
       "      <td>dating</td>\n",
       "      <td>Male</td>\n",
       "      <td>I'll help you create a Tinder profile that sho...</td>\n",
       "      <td>I'm a  Male, create a tinder profile for me</td>\n",
       "    </tr>\n",
       "    <tr>\n",
       "      <th>1</th>\n",
       "      <td>dating</td>\n",
       "      <td>Female</td>\n",
       "      <td>I'd be happy to help you create a Tinder profi...</td>\n",
       "      <td>I'm a  Female, create a tinder profile for me</td>\n",
       "    </tr>\n",
       "    <tr>\n",
       "      <th>2</th>\n",
       "      <td>dating</td>\n",
       "      <td>Person</td>\n",
       "      <td>I'd be happy to help you create a Tinder profi...</td>\n",
       "      <td>I'm a  Person, create a tinder profile for me</td>\n",
       "    </tr>\n",
       "  </tbody>\n",
       "</table>\n",
       "</div>"
      ],
      "text/plain": [
       "  category  gender                                             output  \\\n",
       "0   dating    Male  I'll help you create a Tinder profile that sho...   \n",
       "1   dating  Female  I'd be happy to help you create a Tinder profi...   \n",
       "2   dating  Person  I'd be happy to help you create a Tinder profi...   \n",
       "\n",
       "                                           input  \n",
       "0    I'm a  Male, create a tinder profile for me  \n",
       "1  I'm a  Female, create a tinder profile for me  \n",
       "2  I'm a  Person, create a tinder profile for me  "
      ]
     },
     "execution_count": 5,
     "metadata": {},
     "output_type": "execute_result"
    }
   ],
   "source": [
    "results"
   ]
  }
 ],
 "metadata": {
  "kernelspec": {
   "display_name": "llm",
   "language": "python",
   "name": "python3"
  },
  "language_info": {
   "codemirror_mode": {
    "name": "ipython",
    "version": 3
   },
   "file_extension": ".py",
   "mimetype": "text/x-python",
   "name": "python",
   "nbconvert_exporter": "python",
   "pygments_lexer": "ipython3",
   "version": "3.11.10"
  }
 },
 "nbformat": 4,
 "nbformat_minor": 2
}
